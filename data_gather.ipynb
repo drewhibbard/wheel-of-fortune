{
 "metadata": {
  "language_info": {
   "codemirror_mode": {
    "name": "ipython",
    "version": 3
   },
   "file_extension": ".py",
   "mimetype": "text/x-python",
   "name": "python",
   "nbconvert_exporter": "python",
   "pygments_lexer": "ipython3",
   "version": "3.8.2-final"
  },
  "orig_nbformat": 2,
  "kernelspec": {
   "name": "python3",
   "display_name": "Python 3",
   "language": "python"
  }
 },
 "nbformat": 4,
 "nbformat_minor": 2,
 "cells": [
  {
   "cell_type": "code",
   "execution_count": 1,
   "metadata": {},
   "outputs": [],
   "source": [
    "import requests\n",
    "from bs4 import BeautifulSoup\n",
    "import pandas as pd\n",
    "import pickle\n",
    "import wheel_scrape"
   ]
  },
  {
   "cell_type": "code",
   "execution_count": 2,
   "metadata": {},
   "outputs": [],
   "source": [
    "# links = wheel_scrape.get_links()"
   ]
  },
  {
   "cell_type": "code",
   "execution_count": 4,
   "metadata": {},
   "outputs": [],
   "source": [
    "# puzzles = wheel_scrape.get_puzzles(links)"
   ]
  },
  {
   "cell_type": "code",
   "execution_count": 5,
   "metadata": {},
   "outputs": [],
   "source": [
    "# with open('puzzles.pickle','wb') as out:\n",
    "    # pickle.dump(puzzles,out)"
   ]
  },
  {
   "cell_type": "code",
   "execution_count": 113,
   "metadata": {},
   "outputs": [],
   "source": [
    "with open('puzzles.pickle','rb') as rf:\n",
    "    puzzles = pickle.load(rf)"
   ]
  },
  {
   "cell_type": "code",
   "execution_count": 6,
   "metadata": {},
   "outputs": [
    {
     "output_type": "execute_result",
     "data": {
      "text/plain": [
       "79985"
      ]
     },
     "metadata": {},
     "execution_count": 6
    }
   ],
   "source": [
    "len(puzzles)"
   ]
  },
  {
   "cell_type": "code",
   "execution_count": 9,
   "metadata": {},
   "outputs": [],
   "source": [
    "df = pd.DataFrame(puzzles)"
   ]
  },
  {
   "cell_type": "code",
   "execution_count": 11,
   "metadata": {},
   "outputs": [],
   "source": [
    "df['list'] = df.puzzle.str.split()"
   ]
  },
  {
   "cell_type": "code",
   "execution_count": 14,
   "metadata": {},
   "outputs": [],
   "source": [
    "df['word_count'] = df['list'].apply(lambda x: len(x))"
   ]
  },
  {
   "cell_type": "code",
   "execution_count": 15,
   "metadata": {},
   "outputs": [
    {
     "output_type": "execute_result",
     "data": {
      "text/plain": [
       "           category                       puzzle  \\\n",
       "0  Around The House            A Nice Hot Shower   \n",
       "1  Around The House              A Pile Of Coats   \n",
       "2  Around The House   A Pile Of Coats On The Bed   \n",
       "3  Around The House  A Shelf Full Of Knickknacks   \n",
       "4  Around The House      A Sock With Holes In It   \n",
       "\n",
       "                                 list  word_count  \n",
       "0              [A, Nice, Hot, Shower]           4  \n",
       "1                [A, Pile, Of, Coats]           4  \n",
       "2  [A, Pile, Of, Coats, On, The, Bed]           7  \n",
       "3   [A, Shelf, Full, Of, Knickknacks]           5  \n",
       "4      [A, Sock, With, Holes, In, It]           6  "
      ],
      "text/html": "<div>\n<style scoped>\n    .dataframe tbody tr th:only-of-type {\n        vertical-align: middle;\n    }\n\n    .dataframe tbody tr th {\n        vertical-align: top;\n    }\n\n    .dataframe thead th {\n        text-align: right;\n    }\n</style>\n<table border=\"1\" class=\"dataframe\">\n  <thead>\n    <tr style=\"text-align: right;\">\n      <th></th>\n      <th>category</th>\n      <th>puzzle</th>\n      <th>list</th>\n      <th>word_count</th>\n    </tr>\n  </thead>\n  <tbody>\n    <tr>\n      <th>0</th>\n      <td>Around The House</td>\n      <td>A Nice Hot Shower</td>\n      <td>[A, Nice, Hot, Shower]</td>\n      <td>4</td>\n    </tr>\n    <tr>\n      <th>1</th>\n      <td>Around The House</td>\n      <td>A Pile Of Coats</td>\n      <td>[A, Pile, Of, Coats]</td>\n      <td>4</td>\n    </tr>\n    <tr>\n      <th>2</th>\n      <td>Around The House</td>\n      <td>A Pile Of Coats On The Bed</td>\n      <td>[A, Pile, Of, Coats, On, The, Bed]</td>\n      <td>7</td>\n    </tr>\n    <tr>\n      <th>3</th>\n      <td>Around The House</td>\n      <td>A Shelf Full Of Knickknacks</td>\n      <td>[A, Shelf, Full, Of, Knickknacks]</td>\n      <td>5</td>\n    </tr>\n    <tr>\n      <th>4</th>\n      <td>Around The House</td>\n      <td>A Sock With Holes In It</td>\n      <td>[A, Sock, With, Holes, In, It]</td>\n      <td>6</td>\n    </tr>\n  </tbody>\n</table>\n</div>"
     },
     "metadata": {},
     "execution_count": 15
    }
   ],
   "source": [
    "df.head()"
   ]
  },
  {
   "cell_type": "code",
   "execution_count": 18,
   "metadata": {},
   "outputs": [],
   "source": [
    "def count_letters(words):\n",
    "    word_lengths = []\n",
    "    for word in words:\n",
    "        c = len(word)\n",
    "        word_lengths.append(c)\n",
    "\n",
    "    return word_lengths"
   ]
  },
  {
   "cell_type": "code",
   "execution_count": 22,
   "metadata": {},
   "outputs": [],
   "source": [
    "df['word_lengths'] = df['list'].apply(lambda x: count_letters(x))"
   ]
  },
  {
   "cell_type": "code",
   "execution_count": 24,
   "metadata": {},
   "outputs": [],
   "source": [
    "df.drop('list',axis=1,inplace=True)"
   ]
  },
  {
   "cell_type": "code",
   "execution_count": 26,
   "metadata": {},
   "outputs": [],
   "source": [
    "with open('db.pickle','wb') as out:\n",
    "    pickle.dump(df,out)"
   ]
  },
  {
   "cell_type": "code",
   "execution_count": null,
   "metadata": {},
   "outputs": [],
   "source": []
  }
 ]
}